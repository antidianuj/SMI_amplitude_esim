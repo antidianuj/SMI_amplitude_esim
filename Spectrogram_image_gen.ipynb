{
 "cells": [
  {
   "cell_type": "code",
   "execution_count": null,
   "metadata": {},
   "outputs": [],
   "source": [
    "pip install obspy"
   ]
  },
  {
   "cell_type": "code",
   "execution_count": 10,
   "metadata": {},
   "outputs": [
    {
     "name": "stdout",
     "output_type": "stream",
     "text": [
      "Once deleted, variables cannot be recovered. Proceed (y/[n])? y\n"
     ]
    }
   ],
   "source": [
    "%reset"
   ]
  },
  {
   "cell_type": "code",
   "execution_count": null,
   "metadata": {},
   "outputs": [
    {
     "name": "stderr",
     "output_type": "stream",
     "text": [
      "<ipython-input-11-7122f7c4fa08>:21: MatplotlibDeprecationWarning: shading='flat' when X and Y have the same dimensions as C is deprecated since 3.3.  Either specify the corners of the quadrilaterals with X and Y, or pass shading='auto', 'nearest' or 'gouraud', or set rcParams['pcolor.shading'].  This will become an error two minor releases later.\n",
      "  ax.pcolormesh(x, y, np.abs(scalogram), cmap=obspy_sequential)\n"
     ]
    }
   ],
   "source": [
    "import obspy\n",
    "import numpy as np\n",
    "from obspy.imaging.cm import obspy_sequential\n",
    "from obspy.signal.tf_misfit import cwt\n",
    "import matplotlib.pyplot as plt\n",
    "# Generate Spectrogram images from csv signals\n",
    "f_min=1\n",
    "f_max=60\n",
    "X_Dat=[]\n",
    "cur_t=np.linspace(0, 1, 8000)\n",
    "\n",
    "for i in range(847):\n",
    "  my_data = np.genfromtxt(\"C:/Users/dianu/Downloads/SM/SM_Gen/SM\"+str(i+1)+\".csv\", delimiter=',')\n",
    "  cur_x=my_data\n",
    "  scalogram = cwt(cur_x, 1/8000, 8, f_min, f_max)\n",
    "  fig=plt.figure()\n",
    "  ax = fig.add_subplot(111)\n",
    "  x, y = np.meshgrid(cur_t,\n",
    "    np.logspace(np.log10(f_min), np.log10(f_max), scalogram.shape[0]))\n",
    "\n",
    "  ax.pcolormesh(x, y, np.abs(scalogram), cmap=obspy_sequential)\n",
    "  fig.savefig(\"C:/Users/dianu/Downloads/SM_I/SM_I\"+str(i+1)+\".png\")\n",
    "  plt.close('all')"
   ]
  }
 ],
 "metadata": {
  "kernelspec": {
   "display_name": "Python 3",
   "language": "python",
   "name": "python3"
  },
  "language_info": {
   "codemirror_mode": {
    "name": "ipython",
    "version": 3
   },
   "file_extension": ".py",
   "mimetype": "text/x-python",
   "name": "python",
   "nbconvert_exporter": "python",
   "pygments_lexer": "ipython3",
   "version": "3.8.8"
  }
 },
 "nbformat": 4,
 "nbformat_minor": 2
}
